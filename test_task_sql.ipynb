{
 "cells": [
  {
   "cell_type": "code",
   "execution_count": 214,
   "id": "886d02a5",
   "metadata": {},
   "outputs": [],
   "source": [
    "import pandas as pd\n",
    "import sqlite3\n"
   ]
  },
  {
   "cell_type": "markdown",
   "id": "3b9c0cc7",
   "metadata": {},
   "source": [
    "Считываем Excel файлы в датафреймы"
   ]
  },
  {
   "cell_type": "code",
   "execution_count": 215,
   "id": "5905846d",
   "metadata": {},
   "outputs": [],
   "source": [
    "df = pd.read_excel(\"Book.xlsx\")\n",
    "df1 = pd.read_excel(\"Students.xlsx\")"
   ]
  },
  {
   "cell_type": "markdown",
   "id": "14b8e9b8",
   "metadata": {},
   "source": [
    "Заносим данные в базу SQL **my_base** в таблицу Book из датафрейма(один раз создаем)"
   ]
  },
  {
   "cell_type": "code",
   "execution_count": 3,
   "id": "d4388380",
   "metadata": {},
   "outputs": [],
   "source": [
    "# conn = sqlite3.connect('my_base.sqlite')\n",
    "\n",
    "# table_name = 'Book'\n",
    "\n",
    "# query = f'Create table if not Exists {table_name} (id_book TEXT,name_book TEXT,genre TEXT,pages TEXT,price TEXT)'\n",
    "# conn.execute(query)\n",
    "# df.to_sql(table_name,conn,if_exists='replace',index=False)\n",
    "# conn.commit()\n",
    "# conn.close()"
   ]
  },
  {
   "cell_type": "code",
   "execution_count": 216,
   "id": "066e67b9",
   "metadata": {},
   "outputs": [],
   "source": [
    "conn = sqlite3.connect('my_base.sqlite')\n",
    "curs=conn.cursor()\n",
    "\n",
    "curs.execute('SELECT * FROM Book')\n",
    "\n",
    "rows = list(curs)\n",
    "\n",
    "for k in range(len(rows)):\n",
    "    rows[k]=list(rows[k])"
   ]
  },
  {
   "cell_type": "code",
   "execution_count": 217,
   "id": "d2b69583",
   "metadata": {},
   "outputs": [
    {
     "name": "stdout",
     "output_type": "stream",
     "text": [
      "  id_book  name_book    genre      pages    price\n",
      "---------  -----------  -------  -------  -------\n",
      "        1  name_1       genre_1      100       10\n",
      "        2  name_2       genre_2      200       20\n",
      "        3  name_3       genre_3      300       30\n",
      "        4  name_4       genre_4      500       60\n",
      "        5  name_5       genre_1      200      100\n",
      "        6  name_6       genre_4      150       80\n",
      "        7  name_7       genre_3      200       90\n",
      "        8  name_8       genre_1      250       40\n",
      "        9  name_9       genre_2      400       45\n",
      "       10  name_10      genre_2     1000       60\n"
     ]
    }
   ],
   "source": [
    "from tabulate import tabulate\n",
    "columns = [\"id_book\",\"name_book\",\"genre\",\"pages\",\"price\"]\n",
    "print(tabulate(rows, headers=columns))"
   ]
  },
  {
   "cell_type": "code",
   "execution_count": 218,
   "id": "0f077612",
   "metadata": {},
   "outputs": [],
   "source": [
    "conn.commit()\n",
    "conn.close()"
   ]
  },
  {
   "cell_type": "markdown",
   "id": "53674343",
   "metadata": {},
   "source": [
    "Заносим данные в базу SQL **my_base** в таблицу Students из датафрейма(один раз создаем)"
   ]
  },
  {
   "cell_type": "code",
   "execution_count": 7,
   "id": "280761ce",
   "metadata": {},
   "outputs": [],
   "source": [
    "# conn = sqlite3.connect('my_base.sqlite')\n",
    "\n",
    "# table_name = 'Students'\n",
    "\n",
    "# query = f'Create table if not Exists {table_name} (id_student TEXT,name_student TEXT,id_book TEXT,date TEXT)'\n",
    "# conn.execute(query)\n",
    "# df1.to_sql(table_name,conn,if_exists='replace',index=False)\n",
    "\n",
    "# conn.commit()\n",
    "# conn.close()"
   ]
  },
  {
   "cell_type": "code",
   "execution_count": 219,
   "id": "bd1cd751",
   "metadata": {},
   "outputs": [],
   "source": [
    "conn = sqlite3.connect('my_base.sqlite')\n",
    "curs = conn.cursor()\n",
    "curs.execute('SELECT * FROM Students')\n",
    "\n",
    "rows = list(curs)\n",
    "\n",
    "for k in range(len(rows)):\n",
    "    rows[k]=list(rows[k])"
   ]
  },
  {
   "cell_type": "code",
   "execution_count": 220,
   "id": "749114a7",
   "metadata": {},
   "outputs": [
    {
     "name": "stdout",
     "output_type": "stream",
     "text": [
      "  id_student  name_student      id_book  date\n",
      "------------  --------------  ---------  -------------------\n",
      "           1  name_1                 10  2020-12-20 00:00:00\n",
      "           2  name_2                  2  2020-12-30 00:00:00\n",
      "           3  name_3                  3  2020-11-15 00:00:00\n",
      "           4  name_4                  4  2020-08-31 00:00:00\n",
      "           5  name_5                  7  2020-07-09 00:00:00\n",
      "           6  name_6                  6  2020-12-23 00:00:00\n",
      "           7  name_7                  1  2020-10-30 00:00:00\n",
      "           8  name_8                  8  2020-09-03 00:00:00\n",
      "           9  name_9                  9  2020-05-04 00:00:00\n",
      "          10  name_10                 5  2020-06-20 00:00:00\n"
     ]
    }
   ],
   "source": [
    "from tabulate import tabulate\n",
    "columns = [\"id_student\",\"name_student\",\"id_book\",\"date\"]\n",
    "print(tabulate(rows, headers=columns))"
   ]
  },
  {
   "cell_type": "code",
   "execution_count": 221,
   "id": "6fc679db",
   "metadata": {},
   "outputs": [],
   "source": [
    "conn.commit()\n",
    "conn.close()"
   ]
  },
  {
   "cell_type": "code",
   "execution_count": 222,
   "id": "d74eed11",
   "metadata": {},
   "outputs": [],
   "source": [
    "conn = sqlite3.connect('my_base.sqlite')\n",
    "curs = conn.cursor()\n"
   ]
  },
  {
   "cell_type": "markdown",
   "id": "bc07001b",
   "metadata": {},
   "source": [
    "1. Вывести самую дорогую книгу\n"
   ]
  },
  {
   "cell_type": "code",
   "execution_count": 223,
   "id": "238e8f07",
   "metadata": {},
   "outputs": [
    {
     "name": "stdout",
     "output_type": "stream",
     "text": [
      "[('name_5', 100)]\n"
     ]
    }
   ],
   "source": [
    "curs.execute(\n",
    "    '''SELECT name_book, MAX(price)\n",
    "FROM Book;\n",
    "'''\n",
    ")\n",
    "print(curs.fetchall())"
   ]
  },
  {
   "cell_type": "code",
   "execution_count": 224,
   "id": "ed69492e",
   "metadata": {},
   "outputs": [
    {
     "name": "stdout",
     "output_type": "stream",
     "text": [
      "[('name_5',)]\n"
     ]
    }
   ],
   "source": [
    "curs.execute(\n",
    "    '''SELECT name_book\n",
    "    FROM Book\n",
    "    WHERE price = (SELECT MAX(price) FROM Book);'''\n",
    ")\n",
    "print(curs.fetchall())"
   ]
  },
  {
   "cell_type": "markdown",
   "id": "519590ae",
   "metadata": {},
   "source": [
    "2. Вывести всех студентов что брали книгу name_3\n"
   ]
  },
  {
   "cell_type": "code",
   "execution_count": 225,
   "id": "ab09ec29",
   "metadata": {},
   "outputs": [
    {
     "name": "stdout",
     "output_type": "stream",
     "text": [
      "[('name_3',)]\n"
     ]
    }
   ],
   "source": [
    "curs.execute('''SELECT Students.name_student\n",
    "FROM Students JOIN Book\n",
    "ON Students.id_book=Book.id_book\n",
    "WHERE Book.name_book=\"name_3\";''')\n",
    "print(curs.fetchall())"
   ]
  },
  {
   "cell_type": "markdown",
   "id": "43db851e",
   "metadata": {},
   "source": [
    "3. Какое кол-во студентов брали книгу name_2 \n"
   ]
  },
  {
   "cell_type": "code",
   "execution_count": 226,
   "id": "564d3c6a",
   "metadata": {},
   "outputs": [
    {
     "name": "stdout",
     "output_type": "stream",
     "text": [
      "[(1,)]\n"
     ]
    }
   ],
   "source": [
    "curs.execute('''SELECT COUNT(Students.id_student)\n",
    "FROM Students JOIN Book \n",
    "ON Students.id_book = Book.id_book\n",
    "WHERE Book.name_book=\"name_2\";''')\n",
    "print(curs.fetchall())"
   ]
  },
  {
   "cell_type": "markdown",
   "id": "07b33676",
   "metadata": {},
   "source": [
    "4. Вывести в алфавитном порядке названия самых дорогих книг в каждом жанре. C условием, что все цены уникальны\n"
   ]
  },
  {
   "cell_type": "code",
   "execution_count": 227,
   "id": "86536f12",
   "metadata": {},
   "outputs": [
    {
     "name": "stdout",
     "output_type": "stream",
     "text": [
      "[('name_10', 60), ('name_5', 100), ('name_6', 80), ('name_7', 90)]\n"
     ]
    }
   ],
   "source": [
    "curs.execute('''SELECT name_book, MAX(price) \n",
    "FROM Book \n",
    "GROUP BY genre \n",
    "ORDER BY name_book ASC;''')\n",
    "print(curs.fetchall())"
   ]
  },
  {
   "cell_type": "code",
   "execution_count": 228,
   "id": "a06a3185",
   "metadata": {},
   "outputs": [
    {
     "name": "stdout",
     "output_type": "stream",
     "text": [
      "[('name_10',), ('name_5',), ('name_6',), ('name_7',)]\n"
     ]
    }
   ],
   "source": [
    "curs.execute('''SELECT name_book\n",
    "FROM Book \n",
    "GROUP BY genre \n",
    "HAVING price = MAX(price)\n",
    "ORDER BY name_book ASC;''')\n",
    "print(curs.fetchall())"
   ]
  },
  {
   "cell_type": "markdown",
   "id": "4080a9aa",
   "metadata": {},
   "source": [
    "5. Вывести имена последних (по дате) трех студентов и книги, которые они брали\n"
   ]
  },
  {
   "cell_type": "code",
   "execution_count": 229,
   "id": "45fd5837",
   "metadata": {},
   "outputs": [
    {
     "name": "stdout",
     "output_type": "stream",
     "text": [
      "[('name_2', 'name_2'), ('name_6', 'name_6'), ('name_1', 'name_10')]\n"
     ]
    }
   ],
   "source": [
    "curs.execute('''SELECT Students.name_student,Book.name_book\n",
    "FROM Students JOIN Book\n",
    "ON Students.id_book=Book.id_book\n",
    "ORDER BY Students.date DESC\n",
    "LIMIT 3;'''\n",
    ")\n",
    "print(curs.fetchall())"
   ]
  },
  {
   "cell_type": "markdown",
   "id": "d407f6e6",
   "metadata": {},
   "source": [
    "6. Вывести книги, которые студенты не брали в течении последних 3 месяцев\n"
   ]
  },
  {
   "cell_type": "code",
   "execution_count": 230,
   "id": "d0f9fb51",
   "metadata": {},
   "outputs": [
    {
     "name": "stdout",
     "output_type": "stream",
     "text": [
      "[('name_10',), ('name_2',), ('name_3',), ('name_4',), ('name_7',), ('name_6',), ('name_1',), ('name_8',), ('name_9',), ('name_5',)]\n"
     ]
    }
   ],
   "source": [
    "curs.execute('''SELECT DISTINCT Book.name_book\n",
    "FROM Students JOIN Book\n",
    "ON Students.id_book=Book.id_book\n",
    "WHERE date < date(('now'),'-3 months');\n",
    "''')\n",
    "print(curs.fetchall())"
   ]
  },
  {
   "cell_type": "code",
   "execution_count": 231,
   "id": "1ae2a520",
   "metadata": {},
   "outputs": [
    {
     "name": "stdout",
     "output_type": "stream",
     "text": [
      "[('name_10',), ('name_2',), ('name_3',), ('name_4',), ('name_7',), ('name_6',), ('name_1',), ('name_8',), ('name_9',), ('name_5',)]\n"
     ]
    }
   ],
   "source": [
    "curs.execute('''SELECT DISTINCT Book.name_book\n",
    "FROM Students JOIN Book\n",
    "ON Students.id_book=Book.id_book\n",
    "WHERE (julianday('now')-julianday(date)) > 90; \n",
    "''')\n",
    "print(curs.fetchall())"
   ]
  },
  {
   "cell_type": "code",
   "execution_count": 232,
   "id": "b14545d3",
   "metadata": {},
   "outputs": [],
   "source": [
    "conn.commit()\n",
    "conn.close()"
   ]
  },
  {
   "cell_type": "code",
   "execution_count": null,
   "id": "6e5877c5",
   "metadata": {},
   "outputs": [],
   "source": []
  }
 ],
 "metadata": {
  "kernelspec": {
   "display_name": "Python 3",
   "language": "python",
   "name": "python3"
  },
  "language_info": {
   "codemirror_mode": {
    "name": "ipython",
    "version": 3
   },
   "file_extension": ".py",
   "mimetype": "text/x-python",
   "name": "python",
   "nbconvert_exporter": "python",
   "pygments_lexer": "ipython3",
   "version": "3.8.8"
  }
 },
 "nbformat": 4,
 "nbformat_minor": 5
}
